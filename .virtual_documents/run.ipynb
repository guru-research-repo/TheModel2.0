%load_ext autoreload
%autoreload 2

from transformations import get_pipeline
import yaml
from PIL import Image
from config import Config
import matplotlib.pyplot as plt

with open('config.yaml', 'r') as f:
    config = yaml.safe_load(f)
    configs_to_run = [Config(**c) for c in config['runs']]
image = Image.open('2.jpg')
image.show()

for run in configs_to_run:
    pipeline, _, _ = get_pipeline(run.transformations)

    transformed = pipeline(image)
    
    # Convert from [C, H, W] → [H, W, C] for matplotlib
    for t in transformed:
        img = t.permute(1, 2, 0)
        img = (img - img.min()) / (img.max() - img.min())
        plt.imshow(img)
        plt.axis('off')
        plt.show()




